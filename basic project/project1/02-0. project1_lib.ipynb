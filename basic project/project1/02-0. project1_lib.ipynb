{
 "cells": [
  {
   "cell_type": "markdown",
   "metadata": {},
   "source": [
    "# Project1 Used Library  \n",
    "***  \n",
    "### **INDEX**  \n",
    ">  \n",
    "> 1. 바이너리 파일을 문자열로 변경 - base64 <br>\n",
    "> 2. 문자열 다루기 - textwrap, re <br>\n",
    "> 3. 단어 개수 구하기 - collections.Counter <br>\n",
    "> 4. 문서 요약하기 - gensim <br>\n",
    "> 5. 텍스트 파일 저장 - open, close <br>\n",
    ">  "
   ]
  },
  {
   "cell_type": "markdown",
   "metadata": {},
   "source": [
    "## 1. 바이너리 파일을 문자열로 변경"
   ]
  },
  {
   "cell_type": "markdown",
   "metadata": {},
   "source": [
    "> ### **바이너리 파일 (Binary file)** \n",
    ">\n",
    "> - 바이너리 파일이란 ‘0’ 과 ‘1’ 을 이용한 **2진수 데이터** 만으로만으로 인코딩된 파일\n",
    "> - 사람이 직접 읽을 수 없다\n",
    "> - 데이터를 효율적으로 처리, 저장, 실행 등을 목적으로 만들어진 파일\n",
    "> - 장점\n",
    ">    - 데이터를 처리하고 전송하는데 일반적으로 비용이 적게 든다.\n",
    ">    - 텍스트 파일에 비해서 데이터 처리 속도가 빠르다.\n",
    ">    - 데이터 저장 공간도 적게 듦\n",
    "> - 대표적인 확장자 : exe, dll, zip, rar, mp3, mpg, jpg, png 등"
   ]
  },
  {
   "cell_type": "markdown",
   "metadata": {},
   "source": [
    "> ### **Base64 인코딩**\n",
    "> - 다양한 통신채널 (HTML, 이메일 등) 을 통해 **바이너리 데이터**를 **안전하게 전송**할 수 있게 하는 방법\n",
    "> - ASCII, Unicode 인코딩과 함께 실생활에서도 많이 사용되는 인코딩 방법\n",
    "> - ASCII (8bit) 인코딩은 프로토콜,시스템마다 다르게 해석되어 데이터가 왜곡될 여지가 있기 때문에 적합하지 않음\n",
    "> - XML이나 HTTP 프로토콜에서도 특수문자 파싱 문제를 해결할 수 있는 수단\n",
    "> - 64 진법은 ASCII문자들을 모두 표현할 수 있는 가장 작은 진법\n",
    ">    - `문자열 입력` -> `ASCII/Binary (8bit)` -> `6bit cut` -> `base64`\n",
    "> - [Base64 인코딩 테이블](https://en.wikipedia.org/wiki/Base64)<br>\n",
    "> <img src='img/base64_example.png' width=\"65%\"><br>"
   ]
  }
 ],
 "metadata": {
  "language_info": {
   "name": "python"
  }
 },
 "nbformat": 4,
 "nbformat_minor": 2
}
