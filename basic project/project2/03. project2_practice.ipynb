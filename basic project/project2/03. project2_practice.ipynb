{
 "cells": [
  {
   "cell_type": "markdown",
   "metadata": {},
   "source": [
    "# Project2 Practice <br>\n",
    "\n",
    "***"
   ]
  },
  {
   "cell_type": "markdown",
   "metadata": {},
   "source": [
    "## 프로젝트 실습 "
   ]
  },
  {
   "cell_type": "markdown",
   "metadata": {},
   "source": [
    "> ### 진행 순서\n",
    ">  1. 윤년 판별 함수\n",
    ">  2. 마지막 날짜 계산\n",
    ">  3. 지나온 날짜 계산\n",
    ">  4. 요일 반환\n",
    ">  5. 달력 확인"
   ]
  },
  {
   "cell_type": "markdown",
   "metadata": {},
   "source": [
    "### 1. 윤년 판별 함수"
   ]
  },
  {
   "cell_type": "markdown",
   "metadata": {},
   "source": [
    "#### 방법 1. 윤년 판별 공식에 따라 작동하는 함수 만들기"
   ]
  },
  {
   "cell_type": "code",
   "execution_count": 2,
   "metadata": {},
   "outputs": [],
   "source": [
    "def isLeapYear(year): # 윤년이면 True, 아니면 False 를 출력하는 함수.\n",
    "    return year % 4 == 0 and year % 100 != 0 or year % 400 == 0"
   ]
  },
  {
   "cell_type": "markdown",
   "metadata": {},
   "source": [
    "#### 방법 2. calendar 모듈 활용하기"
   ]
  },
  {
   "cell_type": "code",
   "execution_count": 3,
   "metadata": {},
   "outputs": [
    {
     "data": {
      "text/plain": [
       "True"
      ]
     },
     "execution_count": 3,
     "metadata": {},
     "output_type": "execute_result"
    }
   ],
   "source": [
    "import calendar\n",
    "calendar.isleap(2020)"
   ]
  },
  {
   "cell_type": "markdown",
   "metadata": {},
   "source": [
    "### 2. 마지막 날짜 계산"
   ]
  },
  {
   "cell_type": "markdown",
   "metadata": {},
   "source": [
    "> - `lastDay` 인수로 년, 월을 넘겨받아 그 달의 마지막 날짜를 리턴하는 함수"
   ]
  },
  {
   "cell_type": "code",
   "execution_count": 4,
   "metadata": {},
   "outputs": [],
   "source": [
    "def lastDay(year, month):\n",
    "    # 각 달의 마지막 날짜를 기억하는 리스트 만들기\n",
    "    m = [31, 28, 31, 30, 31, 30, 31, 31, 30, 31, 30, 31]\n",
    "   \n",
    "    # 2월의 마지막 날짜를 확정 => 윤년이면 29일로 수정\n",
    "    if isLeapYear(year):\n",
    "        m[1] = 29 \n",
    "\n",
    "    return m[month - 1]  # 마지막 날짜 리턴"
   ]
  },
  {
   "cell_type": "markdown",
   "metadata": {},
   "source": [
    "### 3. 지나온 날짜 계산"
   ]
  },
  {
   "cell_type": "markdown",
   "metadata": {},
   "source": [
    "> - `totalDay` 년, 월, 일을 넘겨받아 1년 1월 1일 부터 지난 날짜의 합계를 리턴하는 함수\n",
    "> - `total` 계산 순서\n",
    ">   1. 평년을 기준으로 전년도까지 일자 합계 -> 윤년이었던 횟수 더하기\n",
    ">   2. 전달까지 해당 연도 일자 더하기\n",
    ">   3. 이번달 날짜 더하기"
   ]
  },
  {
   "cell_type": "code",
   "execution_count": 5,
   "metadata": {},
   "outputs": [],
   "source": [
    "def totalDay(year, month, day):\n",
    "    # 1년 1월 1일 부터 전 년도 12월 31일 까지 지난 날짜를 합산\n",
    "    total = (year - 1) * 365 + (year - 1) // 4 - (year - 1) // 100 + (year - 1) // 400\n",
    "    \n",
    "    # 전년도 까지 지난 날짜의 합계에 전 달까지 지난 날짜 더하기\n",
    "    for i in range(1, month):\n",
    "        total += lastDay(year, i)  # 윤년 확인 포함\n",
    "\n",
    "    return total + day # 전달 까지 지난 날짜에 이번달 날짜를 더해서 리턴"
   ]
  },
  {
   "cell_type": "markdown",
   "metadata": {},
   "source": [
    "### 4. 요일 반환"
   ]
  },
  {
   "cell_type": "markdown",
   "metadata": {},
   "source": [
    "> - `weekDay` 인수로 년, 월, 일을 넘겨받아 요일을 계산해 숫자로 리턴하는 함수\n",
    "> - 1년 1월 1일 부터 인수로 넘겨받은 년, 월, 일 까지 지난 날짜의 합계를 7로 나눈 나머지 반환\n",
    "> - 일요일(0), 월요일(1), 화요일(2), 수요일(3), 목요일(4), 금요일(5), 토요일(6)"
   ]
  },
  {
   "cell_type": "code",
   "execution_count": 6,
   "metadata": {},
   "outputs": [],
   "source": [
    "def weekDay(year, month, day):\n",
    "    return totalDay(year, month, day) % 7"
   ]
  },
  {
   "cell_type": "markdown",
   "metadata": {},
   "source": [
    "### 5. 달력 확인"
   ]
  },
  {
   "cell_type": "code",
   "execution_count": 7,
   "metadata": {},
   "outputs": [
    {
     "name": "stdout",
     "output_type": "stream",
     "text": [
      "============================\n",
      "         2024년 2월\n",
      "============================\n",
      " 일  월  화  수  목  금  토 \n",
      "============================\n",
      "                  1   2   3 \n",
      "  4   5   6   7   8   9  10 \n",
      " 11  12  13  14  15  16  17 \n",
      " 18  19  20  21  22  23  24 \n",
      " 25  26  27  28  29 \n",
      "============================\n"
     ]
    }
   ],
   "source": [
    "if __name__ == \"__main__\":\n",
    "    \n",
    "    # 달력 프로그램 도입부\n",
    "    year, month = map(int, input('달력을 출력할 년, 월을 입력하세요 : ').split())\n",
    "    print('=' * 28)\n",
    "    print('         {0:4d}년{1:2d}월'.format(year, month))\n",
    "    print('=' * 28)\n",
    "    print(' 일  월  화  수  목  금  토 ')\n",
    "    print('=' * 28)  \n",
    "\n",
    "    # 1일이 출력될 요일의 위치를 맞추기 위해서 1일의 요일만큼 반복하며 빈칸을 출력\n",
    "    for i in range(weekDay(year, month, 1)):        \n",
    "        print('    ', end = '')\n",
    "\n",
    "    # 1일 부터 달력을 출력할 달의 마지막 날짜까지 반복하며 달력을 출력\n",
    "    for i in range(1, lastDay(year, month) + 1):\n",
    "        print(' {0:2d} '.format(i), end = '') \n",
    "\n",
    "\n",
    "        # 출력한 날짜(i)가 토요일이고 그 달의 마지막 날짜가 아니면 줄바꿈\n",
    "        if weekDay(year, month, i) == 6 and i != lastDay(year, month):\n",
    "            print()\n",
    "\n",
    "\n",
    "    print('\\n' + '=' * 28) # 달력 하단"
   ]
  },
  {
   "cell_type": "code",
   "execution_count": null,
   "metadata": {},
   "outputs": [],
   "source": []
  }
 ],
 "metadata": {
  "kernelspec": {
   "display_name": "Fourty7_37",
   "language": "python",
   "name": "python3"
  },
  "language_info": {
   "codemirror_mode": {
    "name": "ipython",
    "version": 3
   },
   "file_extension": ".py",
   "mimetype": "text/x-python",
   "name": "python",
   "nbconvert_exporter": "python",
   "pygments_lexer": "ipython3",
   "version": "3.10.13"
  }
 },
 "nbformat": 4,
 "nbformat_minor": 2
}
