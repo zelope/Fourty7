{
 "cells": [
  {
   "cell_type": "markdown",
   "metadata": {},
   "source": [
    "# Project3 Used Library  \n",
    "***  \n",
    "### **INDEX**  \n",
    ">  \n",
    "> **1. 디렉터리 다루기 - os.path, pathlib** <br>\n",
    "> 2. 파일 읽기, 저장 - fileinput, pickle <br>\n",
    "> 3. 파일 찾기, 복사, 이동 - glob, fnmatch, shutil <br>\n",
    "> 4. 파일 압축 - zlib, gzip, zipfile, tarfile <br>"
   ]
  },
  {
   "cell_type": "markdown",
   "metadata": {},
   "source": [
    "## 1. 디렉터리 다루기"
   ]
  },
  {
   "cell_type": "markdown",
   "metadata": {},
   "source": [
    "> ### os.path, pathlib\n",
    "> - `os.path` 와 `pathlib` 모두 파이썬에서 경로와 디렉터리를 처리할 때 자주 사용되는 내장 라이브러리\n",
    "> - `os.path` 는 경로를 **문자열**로 다루고, `pathlib` 은 경로를 **객체**형으로 다루는 차이가 있음\n",
    "> - `pathlib` 은 파이썬 3.4 버전 이후부터 지원\n",
    "> - 파일 찾기, 시스템 경로 등의 기능이 유용 ([비교 전체 표](https://docs.python.org/3/library/pathlib.html))"
   ]
  },
  {
   "cell_type": "markdown",
   "metadata": {},
   "source": [
    "| 기능                   | os 모듈            | pathlib 모듈                  |\n",
    "|------------------------|--------------------|-------------------------------|\n",
    "| 현재 디렉토리 가져오기 | os.getcwd()        | pathlib.Path.cwd()            |\n",
    "| 경로 존재 확인         | os.path.exists()   | pathlib.Path.exists()         |\n",
    "| 파일명만 가져오기      | os.path.basename() | pathlib.PurePath().name       |\n",
    "| 디렉토리명 가져오기    | os.path.dirname()  | pathlib.PurePath().parent     |\n",
    "| 경로 연결              | os.path.join()     | pathlib.PurePath().joinpath() |\n",
    "| 디렉토리 여부          | os.path.isdir()    | pathlib.Path.is_dir()         |\n",
    "| 파일 여부              | os.path.isfile()   | pathlib.Path.is_file()        |\n",
    "| 확장자 분리            | os.path.splitext() | pathlib.PurePath().suffix     |"
   ]
  },
  {
   "cell_type": "code",
   "execution_count": 1,
   "metadata": {},
   "outputs": [],
   "source": [
    "import os\n",
    "import pathlib"
   ]
  },
  {
   "cell_type": "markdown",
   "metadata": {},
   "source": [
    "#### 현재 디렉토리 확인"
   ]
  },
  {
   "cell_type": "code",
   "execution_count": 2,
   "metadata": {},
   "outputs": [
    {
     "name": "stdout",
     "output_type": "stream",
     "text": [
      "c:\\Users\\ljg98\\FastC\\Fourty7\\basic project\\project3\n"
     ]
    }
   ],
   "source": [
    "print(os.getcwd())"
   ]
  },
  {
   "cell_type": "code",
   "execution_count": 3,
   "metadata": {},
   "outputs": [
    {
     "name": "stdout",
     "output_type": "stream",
     "text": [
      "c:\\Users\\ljg98\\FastC\\Fourty7\\basic project\\project3\n"
     ]
    }
   ],
   "source": [
    "print(pathlib.Path.cwd())"
   ]
  },
  {
   "cell_type": "markdown",
   "metadata": {},
   "source": [
    "#### 경로 존재 확인"
   ]
  },
  {
   "cell_type": "code",
   "execution_count": 8,
   "metadata": {},
   "outputs": [],
   "source": [
    "dir_file = r'c:\\Users\\ljg98\\FastC\\Fourty7\\basic project\\project3'\n"
   ]
  },
  {
   "cell_type": "markdown",
   "metadata": {},
   "source": [
    "원래 파이썬에서는 슬래쉬(/)를 기본 경로 구분자로 사용하지만, <br>\n",
    "파일 시스템에서는 역슬래쉬(\\\\)가 기본 구분자 이다 <br>\n",
    "파이썬에서는 이를 다 슬래쉬로 바꾸어도 되지만, <br>\n",
    "<span style=\"color:blue; font-weight:bold;\">r' '</span> 을 통한 문자열 리터럴을 통해 경로를 바로 사용할 수 있다"
   ]
  },
  {
   "cell_type": "code",
   "execution_count": 7,
   "metadata": {},
   "outputs": [
    {
     "name": "stdout",
     "output_type": "stream",
     "text": [
      "True\n"
     ]
    }
   ],
   "source": [
    "print(os.path.exists(dir_file))"
   ]
  },
  {
   "cell_type": "markdown",
   "metadata": {},
   "source": [
    "pathlib은 아래와 같이 적으면 오류가 발생함으로<br>\n",
    "반드시 객체로 만들어 주어야 한다"
   ]
  },
  {
   "cell_type": "code",
   "execution_count": 16,
   "metadata": {},
   "outputs": [
    {
     "data": {
      "text/plain": [
       "WindowsPath('c:/Users/ljg98/FastC/Fourty7/basic project/project3')"
      ]
     },
     "execution_count": 16,
     "metadata": {},
     "output_type": "execute_result"
    }
   ],
   "source": [
    "#pathlib.Path(dir_file)"
   ]
  },
  {
   "cell_type": "code",
   "execution_count": 9,
   "metadata": {},
   "outputs": [
    {
     "name": "stdout",
     "output_type": "stream",
     "text": [
      "True\n"
     ]
    }
   ],
   "source": [
    "print(pathlib.Path.exists(pathlib.Path(dir_file)))"
   ]
  },
  {
   "cell_type": "markdown",
   "metadata": {},
   "source": [
    "#### 디렉토리 만들기"
   ]
  },
  {
   "cell_type": "code",
   "execution_count": 13,
   "metadata": {},
   "outputs": [],
   "source": [
    "dir_os = r'c:\\Users\\ljg98\\FastC\\Fourty7\\basic project\\project3\\project lib\\새폴더'\n",
    "dir_pathlib = pathlib.Path(r'c:\\Users\\ljg98\\FastC\\Fourty7\\basic project\\project3\\project lib\\pathlib\\새폴더')"
   ]
  },
  {
   "cell_type": "code",
   "execution_count": 14,
   "metadata": {},
   "outputs": [],
   "source": [
    "# os\n",
    "if not os.path.exists(dir_os):\n",
    "    os.makedirs(dir_os)"
   ]
  },
  {
   "cell_type": "code",
   "execution_count": 15,
   "metadata": {},
   "outputs": [],
   "source": [
    "# pathlib\n",
    "dir_pathlib.mkdir(parents=True, exist_ok=True)\n",
    "#parents 인자가 True면 부모경로가 없을 경우 자동으로 생성해준다"
   ]
  },
  {
   "cell_type": "markdown",
   "metadata": {},
   "source": [
    "<video width=\"75%\" height=\"\" controls>\n",
    "  <source src=\"./img/example_mv.mp4\" type=\"video/mp4\">\n",
    "  Your browser does not support the video tag.\n",
    "</video>"
   ]
  },
  {
   "cell_type": "markdown",
   "metadata": {},
   "source": [
    "#### 파일명 확인"
   ]
  },
  {
   "cell_type": "code",
   "execution_count": 17,
   "metadata": {},
   "outputs": [],
   "source": [
    "dir_file = r'c:\\Users\\ljg98\\FastC\\Fourty7\\basic project\\project3\\sample'"
   ]
  },
  {
   "cell_type": "code",
   "execution_count": 18,
   "metadata": {},
   "outputs": [
    {
     "name": "stdout",
     "output_type": "stream",
     "text": [
      "['새파일1.txt', '새파일2.txt', '새파일3.txt']\n"
     ]
    }
   ],
   "source": [
    "# 전체 파일 리스트\n",
    "print(os.listdir(dir_file))"
   ]
  },
  {
   "cell_type": "code",
   "execution_count": 19,
   "metadata": {},
   "outputs": [
    {
     "name": "stdout",
     "output_type": "stream",
     "text": [
      "새파일1.txt\n"
     ]
    }
   ],
   "source": [
    "# os\n",
    "print(os.listdir(dir_file)[0])"
   ]
  },
  {
   "cell_type": "code",
   "execution_count": 20,
   "metadata": {},
   "outputs": [
    {
     "name": "stdout",
     "output_type": "stream",
     "text": [
      "새파일1.txt\n"
     ]
    }
   ],
   "source": [
    "# pathlib\n",
    "print(pathlib.PurePath(os.listdir(dir_file)[0]).name)"
   ]
  },
  {
   "cell_type": "markdown",
   "metadata": {},
   "source": [
    "#### 상위 경로명 확인"
   ]
  },
  {
   "cell_type": "code",
   "execution_count": 21,
   "metadata": {},
   "outputs": [
    {
     "data": {
      "text/plain": [
       "'c:\\\\Users\\\\ljg98\\\\FastC\\\\Fourty7\\\\basic project\\\\project3\\\\sample'"
      ]
     },
     "execution_count": 21,
     "metadata": {},
     "output_type": "execute_result"
    }
   ],
   "source": [
    "dir_file"
   ]
  },
  {
   "cell_type": "code",
   "execution_count": 22,
   "metadata": {},
   "outputs": [
    {
     "name": "stdout",
     "output_type": "stream",
     "text": [
      "c:\\Users\\ljg98\\FastC\\Fourty7\\basic project\\project3\n"
     ]
    }
   ],
   "source": [
    "# os\n",
    "print(os.path.dirname(dir_file))"
   ]
  },
  {
   "cell_type": "code",
   "execution_count": 23,
   "metadata": {},
   "outputs": [
    {
     "name": "stdout",
     "output_type": "stream",
     "text": [
      "c:\\Users\\ljg98\\FastC\\Fourty7\\basic project\\project3\n"
     ]
    }
   ],
   "source": [
    "# pathlib\n",
    "print(pathlib.PurePath(dir_file).parent)"
   ]
  },
  {
   "cell_type": "markdown",
   "metadata": {},
   "source": [
    "#### 경로 연결"
   ]
  },
  {
   "cell_type": "code",
   "execution_count": 24,
   "metadata": {},
   "outputs": [
    {
     "name": "stdout",
     "output_type": "stream",
     "text": [
      "c:\\Users\\ljg98\\FastC\\Fourty7\\basic project\\project3\\sample\\os\n"
     ]
    }
   ],
   "source": [
    "# os\n",
    "print(os.path.join(dir_file, 'os'))"
   ]
  },
  {
   "cell_type": "code",
   "execution_count": 25,
   "metadata": {},
   "outputs": [
    {
     "name": "stdout",
     "output_type": "stream",
     "text": [
      "c:\\Users\\ljg98\\FastC\\Fourty7\\basic project\\project3\\os\n"
     ]
    }
   ],
   "source": [
    "# os\n",
    "print(os.path.join(os.path.dirname(dir_file), 'os'))"
   ]
  },
  {
   "cell_type": "code",
   "execution_count": 26,
   "metadata": {},
   "outputs": [
    {
     "name": "stdout",
     "output_type": "stream",
     "text": [
      "c:\\Users\\ljg98\\FastC\\Fourty7\\basic project\\project3\\sample\\pathlib\n"
     ]
    }
   ],
   "source": [
    "# pathlib\n",
    "print(pathlib.PurePath(dir_file).joinpath('pathlib'))"
   ]
  },
  {
   "cell_type": "code",
   "execution_count": 27,
   "metadata": {},
   "outputs": [
    {
     "name": "stdout",
     "output_type": "stream",
     "text": [
      "c:\\Users\\ljg98\\FastC\\Fourty7\\basic project\\project3\\pathlib\n"
     ]
    }
   ],
   "source": [
    "# pathlib\n",
    "print(pathlib.PurePath(pathlib.PurePath(dir_file).parent).joinpath('pathlib'))"
   ]
  },
  {
   "cell_type": "markdown",
   "metadata": {},
   "source": [
    "#### 확장자 분리"
   ]
  },
  {
   "cell_type": "code",
   "execution_count": 28,
   "metadata": {},
   "outputs": [
    {
     "name": "stdout",
     "output_type": "stream",
     "text": [
      "새파일1.txt\n"
     ]
    }
   ],
   "source": [
    "file_path = os.path.basename(os.listdir(dir_file)[0])\n",
    "print(file_path)"
   ]
  },
  {
   "cell_type": "code",
   "execution_count": 29,
   "metadata": {},
   "outputs": [
    {
     "name": "stdout",
     "output_type": "stream",
     "text": [
      "('새파일1', '.txt')\n"
     ]
    }
   ],
   "source": [
    "# os\n",
    "print(os.path.splitext(file_path))"
   ]
  },
  {
   "cell_type": "code",
   "execution_count": 30,
   "metadata": {},
   "outputs": [
    {
     "data": {
      "text/plain": [
       "'.txt'"
      ]
     },
     "execution_count": 30,
     "metadata": {},
     "output_type": "execute_result"
    }
   ],
   "source": [
    "# pathlib\n",
    "pathlib.PurePath(file_path).suffix"
   ]
  },
  {
   "cell_type": "code",
   "execution_count": null,
   "metadata": {},
   "outputs": [],
   "source": []
  }
 ],
 "metadata": {
  "kernelspec": {
   "display_name": "Fourty7",
   "language": "python",
   "name": "python3"
  },
  "language_info": {
   "codemirror_mode": {
    "name": "ipython",
    "version": 3
   },
   "file_extension": ".py",
   "mimetype": "text/x-python",
   "name": "python",
   "nbconvert_exporter": "python",
   "pygments_lexer": "ipython3",
   "version": "3.10.13"
  }
 },
 "nbformat": 4,
 "nbformat_minor": 2
}
