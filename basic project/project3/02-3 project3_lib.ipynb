{
 "cells": [
  {
   "cell_type": "markdown",
   "metadata": {},
   "source": [
    "# Project3 Used Library  \n",
    "***  \n",
    "### **INDEX**  \n",
    ">  \n",
    "> 1. 디렉터리 다루기 - os.path, pathlib <br>\n",
    "> 2. 파일 읽기, 저장 - fileinput, pickle <br>\n",
    "> **3. 파일 찾기, 복사, 이동 - glob, fnmatch, shutil**<br>\n",
    "> 4. 파일 압축 - zlib, gzip, zipfile, tarfile <br>"
   ]
  },
  {
   "cell_type": "markdown",
   "metadata": {},
   "source": [
    "## 3. 파일 찾기, 복사, 이동"
   ]
  },
  {
   "cell_type": "markdown",
   "metadata": {},
   "source": [
    "### glob"
   ]
  },
  {
   "cell_type": "markdown",
   "metadata": {},
   "source": [
    "> - `glob` 는 패턴을 이용하여 파일을 검색할 때 사용하는 모듈"
   ]
  },
  {
   "cell_type": "markdown",
   "metadata": {},
   "source": [
    "#### 파일 확장자로 찾기"
   ]
  },
  {
   "cell_type": "code",
   "execution_count": 17,
   "metadata": {},
   "outputs": [],
   "source": [
    "import glob\n",
    "import os"
   ]
  },
  {
   "cell_type": "code",
   "execution_count": 18,
   "metadata": {},
   "outputs": [
    {
     "data": {
      "text/plain": [
       "'c:\\\\Users\\\\ljg98\\\\FastC\\\\Fourty7\\\\basic project\\\\project3'"
      ]
     },
     "execution_count": 18,
     "metadata": {},
     "output_type": "execute_result"
    }
   ],
   "source": [
    "# 현재 디렉토리 확인\n",
    "os.getcwd()"
   ]
  },
  {
   "cell_type": "code",
   "execution_count": 19,
   "metadata": {},
   "outputs": [
    {
     "name": "stdout",
     "output_type": "stream",
     "text": [
      "00 폴더 관리 프로그램.txt\n",
      "9999. fake_file.txt\n"
     ]
    }
   ],
   "source": [
    "# txt 파일 찾기 - 현재 경로\n",
    "for filename in glob.glob(\"*.txt\"):\n",
    "    print(filename)"
   ]
  },
  {
   "cell_type": "code",
   "execution_count": 20,
   "metadata": {},
   "outputs": [
    {
     "name": "stdout",
     "output_type": "stream",
     "text": [
      "sample\\list.txt\n",
      "sample\\새파일1.txt\n",
      "sample\\새파일2.txt\n",
      "sample\\새파일3.txt\n",
      "sample_org\\새파일1.txt\n",
      "sample_org\\새파일2.txt\n",
      "sample_org\\새파일3.txt\n"
     ]
    }
   ],
   "source": [
    "# txt 파일 찾기 - 하위 경로\n",
    "for filename in glob.glob(\"**/*.txt\"):\n",
    "    print(filename)"
   ]
  },
  {
   "cell_type": "code",
   "execution_count": 21,
   "metadata": {},
   "outputs": [
    {
     "name": "stdout",
     "output_type": "stream",
     "text": [
      "00 폴더 관리 프로그램.txt\n",
      "9999. fake_file.txt\n",
      "sample\\list.txt\n",
      "sample\\새파일1.txt\n",
      "sample\\새파일2.txt\n",
      "sample\\새파일3.txt\n",
      "sample_org\\새파일1.txt\n",
      "sample_org\\새파일2.txt\n",
      "sample_org\\새파일3.txt\n"
     ]
    }
   ],
   "source": [
    "# txt 파일 찾기 - 현재와 하위 경로 모두 포함\n",
    "for filename in glob.glob(\"**/*.txt\", recursive=True):\n",
    "    print(filename)"
   ]
  },
  {
   "cell_type": "markdown",
   "metadata": {},
   "source": [
    "#### 파일명 글자수로 찾기\n",
    "- ? 는 문자의 종류는 상관 X, 단 한개를 뜻할 때"
   ]
  },
  {
   "cell_type": "code",
   "execution_count": 31,
   "metadata": {},
   "outputs": [
    {
     "name": "stdout",
     "output_type": "stream",
     "text": [
      "9999. fake_file.txt\n",
      "list.pkl\n",
      "sample\\새파일1.txt\n",
      "sample\\새파일2.txt\n",
      "sample\\새파일3.txt\n",
      "sample_org\\새파일1.txt\n",
      "sample_org\\새파일2.txt\n",
      "sample_org\\새파일3.txt\n"
     ]
    }
   ],
   "source": [
    "# 글자수 4\n",
    "for filename in glob.glob(\"**/????.*\", recursive=True):\n",
    "    print(filename)\n",
    "\n"
   ]
  },
  {
   "cell_type": "markdown",
   "metadata": {},
   "source": [
    "이 방식이 조금 문제가 있는게 <br>\n",
    "만약  9999. fake_file.txt 와 같이 파일명에 ' . '(온점)이 들어가 있는 경우<br>\n",
    "그 이하를 확장자 명으로 인식한다<br>\n",
    "\n",
    "**파일명 저장할 때 . 지양!!**"
   ]
  },
  {
   "cell_type": "markdown",
   "metadata": {},
   "source": [
    "#### 문자열 포함 파일명 찾기\n",
    "- *은 문자 종류, 길이 상관 X"
   ]
  },
  {
   "cell_type": "code",
   "execution_count": 29,
   "metadata": {},
   "outputs": [
    {
     "name": "stdout",
     "output_type": "stream",
     "text": [
      "list.pkl\n"
     ]
    }
   ],
   "source": [
    "for filename in glob.glob(\"**/[a-z][a-z][a-z][a-z].*\", recursive=True):\n",
    "    print(filename)"
   ]
  },
  {
   "cell_type": "code",
   "execution_count": 32,
   "metadata": {},
   "outputs": [
    {
     "name": "stdout",
     "output_type": "stream",
     "text": [
      "sample\\새파일1.txt\n",
      "sample\\새파일2.txt\n",
      "sample\\새파일3.txt\n",
      "sample\\새파일987654.txt\n",
      "sample_org\\새파일1.txt\n",
      "sample_org\\새파일2.txt\n",
      "sample_org\\새파일3.txt\n"
     ]
    }
   ],
   "source": [
    "#새파일 + anything\n",
    "for filename in glob.glob(\"**/새파일*.*\", recursive=True):\n",
    "    print(filename)"
   ]
  },
  {
   "cell_type": "code",
   "execution_count": 33,
   "metadata": {},
   "outputs": [
    {
     "name": "stdout",
     "output_type": "stream",
     "text": [
      "01  project3_outline.ipynb\n",
      "02-1 project3_lib.ipynb\n",
      "02-2 project3_lib.ipynb\n",
      "02-3 project3_lib.ipynb\n",
      "02-4 project3_lib.ipynb\n"
     ]
    }
   ],
   "source": [
    "# anything + project + anything\n",
    "\n",
    "for filename in glob.glob(\"**/*project*.*\", recursive=True):\n",
    "    print(filename)"
   ]
  },
  {
   "cell_type": "markdown",
   "metadata": {},
   "source": [
    "### fnmatch"
   ]
  },
  {
   "cell_type": "markdown",
   "metadata": {},
   "source": [
    "> - `fnmatch` 는 `glob` 와 동일하게 특정한 패턴을 따르는 파일명을 찾아주는 모듈입니다.\n",
    "> - 파일명 매칭 여부를 `True`, `False` 형태로 반환하기 때문에 `os.listdir()` 함수와 함께 사용하는 것이 특징입니다"
   ]
  },
  {
   "cell_type": "code",
   "execution_count": 34,
   "metadata": {},
   "outputs": [],
   "source": [
    "import fnmatch\n",
    "import os"
   ]
  },
  {
   "cell_type": "markdown",
   "metadata": {},
   "source": [
    "#### 탐색 조건\n",
    "- 탐색범위는 sample 폴더\n",
    "- 파일명은 '새'로 시작한다.\n",
    "- 확장자는 텍스트 파일을 의미하는 .txt 이다.\n",
    "- 확장자를 제외한 파일명의 길이는 4이다.\n",
    "- 파일명의 마지막 문자는 숫자이다."
   ]
  },
  {
   "cell_type": "code",
   "execution_count": 36,
   "metadata": {},
   "outputs": [
    {
     "name": "stdout",
     "output_type": "stream",
     "text": [
      "새파일1.txt\n",
      "새파일2.txt\n",
      "새파일3.txt\n"
     ]
    }
   ],
   "source": [
    "for filename in os.listdir('./sample'):\n",
    "    if fnmatch.fnmatch(filename, '새??[0-9].txt'):\n",
    "        print(filename)"
   ]
  },
  {
   "cell_type": "markdown",
   "metadata": {},
   "source": [
    "### shutil"
   ]
  },
  {
   "cell_type": "markdown",
   "metadata": {},
   "source": [
    "> - `shutil` 은 파일을 복사하거나 이동할때 사용하는 내장 모듈입니다.\n",
    "> - `copy`, `copy2` : 파일 복사\n",
    "> - `move` : 파일 이동, 확장자 변경"
   ]
  },
  {
   "cell_type": "code",
   "execution_count": 37,
   "metadata": {},
   "outputs": [],
   "source": [
    "import shutil"
   ]
  },
  {
   "cell_type": "code",
   "execution_count": 39,
   "metadata": {},
   "outputs": [
    {
     "data": {
      "text/plain": [
       "'./sample/새파일1_복사본.txt'"
      ]
     },
     "execution_count": 39,
     "metadata": {},
     "output_type": "execute_result"
    }
   ],
   "source": [
    "# 파일 복사하기\n",
    "shutil.copy(\"./sample/새파일1.txt\", \"./sample/새파일1_복사본.txt\")"
   ]
  },
  {
   "cell_type": "code",
   "execution_count": 40,
   "metadata": {},
   "outputs": [
    {
     "data": {
      "text/plain": [
       "'./sample/새파일1_복사본_메타.txt'"
      ]
     },
     "execution_count": 40,
     "metadata": {},
     "output_type": "execute_result"
    }
   ],
   "source": [
    "# 메타정보 복사\n",
    "shutil.copy2(\"./sample/새파일1.txt\", \"./sample/새파일1_복사본_메타.txt\")"
   ]
  },
  {
   "cell_type": "code",
   "execution_count": 41,
   "metadata": {},
   "outputs": [
    {
     "data": {
      "text/plain": [
       "'./sample/새파일1_복사본.py'"
      ]
     },
     "execution_count": 41,
     "metadata": {},
     "output_type": "execute_result"
    }
   ],
   "source": [
    "# 확장자 바꾸기\n",
    "shutil.move(\"./sample/새파일1_복사본.txt\", \"./sample/새파일1_복사본.py\")"
   ]
  },
  {
   "cell_type": "code",
   "execution_count": 42,
   "metadata": {},
   "outputs": [
    {
     "data": {
      "text/plain": [
       "'./sample/새파일1_복사본.txt'"
      ]
     },
     "execution_count": 42,
     "metadata": {},
     "output_type": "execute_result"
    }
   ],
   "source": [
    "# 확장자 바꾸기\n",
    "shutil.move(\"./sample/새파일1_복사본.py\", \"./sample/새파일1_복사본.txt\")"
   ]
  },
  {
   "cell_type": "code",
   "execution_count": 43,
   "metadata": {},
   "outputs": [
    {
     "data": {
      "text/plain": [
       "'./sample_copy/새파일1_복사본_메타.txt'"
      ]
     },
     "execution_count": 43,
     "metadata": {},
     "output_type": "execute_result"
    }
   ],
   "source": [
    "# 파일 이동하기\n",
    "shutil.move(\"./sample/새파일1_복사본.txt\", \"./sample_copy/새파일1_복사본.txt\")\n",
    "shutil.move(\"./sample/새파일1_복사본_메타.txt\", \"./sample_copy/새파일1_복사본_메타.txt\")"
   ]
  },
  {
   "cell_type": "markdown",
   "metadata": {},
   "source": [
    "#### 메타 정보란?\n",
    "- by chatGPT"
   ]
  },
  {
   "cell_type": "markdown",
   "metadata": {},
   "source": [
    "메타 정보(meta-information)는 데이터에 관한 데이터로, 주어진 데이터의 특정 측면에 대한 정보를 나타냅니다. <br>\n",
    "이는 데이터의 구조, 형식, 속성 등에 대한 정보를 포함할 수 있습니다.<br>\n",
    "예를 들어, 이미지 파일의 메타 정보에는 이미지의 크기, 해상도, 색상 프로파일, 촬영일시 등의 정보가 포함될 수 있습니다.<br>\n",
    "웹사이트에서의 메타 정보는 웹페이지의 제목, 설명, 키워드 등을 포함하며, 이는 검색 엔진에서 웹페이지를 색인하고 검색 결과에 표시하는 데 사용됩니다."
   ]
  },
  {
   "cell_type": "markdown",
   "metadata": {},
   "source": []
  },
  {
   "cell_type": "markdown",
   "metadata": {},
   "source": []
  }
 ],
 "metadata": {
  "kernelspec": {
   "display_name": "Fourty7",
   "language": "python",
   "name": "python3"
  },
  "language_info": {
   "codemirror_mode": {
    "name": "ipython",
    "version": 3
   },
   "file_extension": ".py",
   "mimetype": "text/x-python",
   "name": "python",
   "nbconvert_exporter": "python",
   "pygments_lexer": "ipython3",
   "version": "3.10.13"
  }
 },
 "nbformat": 4,
 "nbformat_minor": 2
}
