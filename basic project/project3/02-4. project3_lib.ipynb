{
 "cells": [
  {
   "cell_type": "markdown",
   "metadata": {},
   "source": [
    "# Project3 Used Library  \n",
    "***  \n",
    "### **INDEX**  \n",
    ">  \n",
    "> 1. 디렉터리 다루기 - os.path, pathlib <br>\n",
    "> 2. 파일 읽기, 저장 - fileinput, pickle <br>\n",
    "> 3. 파일 찾기, 복사, 이동 - glob, fnmatch, shutil <br>\n",
    "> **4. 파일 압축 - zlib, gzip, zipfile, tarfile** <br>"
   ]
  },
  {
   "cell_type": "code",
   "execution_count": null,
   "metadata": {},
   "outputs": [],
   "source": []
  }
 ],
 "metadata": {
  "language_info": {
   "name": "python"
  }
 },
 "nbformat": 4,
 "nbformat_minor": 2
}
