{
 "cells": [
  {
   "cell_type": "markdown",
   "metadata": {},
   "source": [
    "# **Chapter 5.  쇼핑몰 데이터베이스 만들기**\n",
    "\n",
    "\n",
    "---\n",
    "### 📝 **학습 목차**\n",
    "> **1. csv 파일 다루기 - csv** <br>\n",
    "> 2. 데이터 베이스 연결 - sqlight3 <br>\n",
    "> 3. sqlight 다루기 <br>\n",
    "> 4. 데이터 백업하기 - iterdump <br>\n"
   ]
  },
  {
   "cell_type": "markdown",
   "metadata": {},
   "source": [
    "## 1. csv 파일 다루기"
   ]
  },
  {
   "cell_type": "markdown",
   "metadata": {},
   "source": [
    "### csv 파일 읽기"
   ]
  },
  {
   "cell_type": "code",
   "execution_count": 1,
   "metadata": {},
   "outputs": [],
   "source": [
    "import csv"
   ]
  },
  {
   "cell_type": "code",
   "execution_count": 3,
   "metadata": {},
   "outputs": [
    {
     "name": "stdout",
     "output_type": "stream",
     "text": [
      "['ID', '상품명', '가격']\n",
      "['1', '모자', '15000']\n",
      "['2', '코트', '200000']\n",
      "['3', '티셔츠', '20000']\n",
      "['4', '블라우스', '55000']\n",
      "['5', '가디건', '45000']\n",
      "['6', '청바지', '50000']\n",
      "['7', '구두', '150000']\n",
      "['8', '가방', '170000']\n",
      "['9', '양말', '5000']\n"
     ]
    }
   ],
   "source": [
    "result = []\n",
    "with open('product_list.csv', 'r', encoding='euc-kr') as f:\n",
    "    reader = csv.reader(f)\n",
    "    for line in reader:\n",
    "        result.append(line)\n",
    "        print(line)"
   ]
  },
  {
   "cell_type": "markdown",
   "metadata": {},
   "source": [
    "### csv 파일 수정"
   ]
  },
  {
   "cell_type": "code",
   "execution_count": 4,
   "metadata": {},
   "outputs": [],
   "source": [
    "# 방법 1\n",
    "with open('product_list.csv', 'w', newline='') as f:\n",
    "    writer = csv.writer(f)\n",
    "    writer.writerows(result)                # 이전 레코드\n",
    "    writer.writerow(['9', '양말', '5000'])  # 신규 레코드"
   ]
  },
  {
   "cell_type": "code",
   "execution_count": 5,
   "metadata": {},
   "outputs": [],
   "source": [
    "# 방법 2\n",
    "result.append(['9', '양말', '5000'])\n",
    "\n",
    "with open('product_list.csv', 'w', newline='') as f:\n",
    "    writer = csv.writer(f)\n",
    "    writer.writerows(result)"
   ]
  },
  {
   "cell_type": "code",
   "execution_count": null,
   "metadata": {},
   "outputs": [],
   "source": []
  }
 ],
 "metadata": {
  "kernelspec": {
   "display_name": "Fourty7",
   "language": "python",
   "name": "python3"
  },
  "language_info": {
   "codemirror_mode": {
    "name": "ipython",
    "version": 3
   },
   "file_extension": ".py",
   "mimetype": "text/x-python",
   "name": "python",
   "nbconvert_exporter": "python",
   "pygments_lexer": "ipython3",
   "version": "3.10.13"
  }
 },
 "nbformat": 4,
 "nbformat_minor": 2
}
