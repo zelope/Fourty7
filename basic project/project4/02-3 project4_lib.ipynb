{
 "cells": [
  {
   "cell_type": "markdown",
   "metadata": {},
   "source": [
    "# **Chapter 5.  쇼핑몰 데이터베이스 만들기**\n",
    "\n",
    "\n",
    "---\n",
    "### 📝 **학습 목차**\n",
    "> 1. csv 파일 다루기 - csv <br>\n",
    "> 2. 데이터 베이스 연결 - sqlight3 <br>\n",
    "> **3. sqlight 다루기** <br>\n",
    "> 4. 데이터 백업하기 - iterdump <br>"
   ]
  },
  {
   "cell_type": "markdown",
   "metadata": {},
   "source": [
    "## 3. sqlight 다루기"
   ]
  },
  {
   "cell_type": "markdown",
   "metadata": {},
   "source": [
    "> ### sqlite3 데이터 조회\n",
    "> - sqlite3 에서 데이터 조회 방법에는 `fetchone()`, `fetchmany()`, `fetchall()` 3 가지 방법을 사용\n",
    "> - `SELECT` 문을 사용한 조회 결과 범위에서 실제 가져오는 row 수를 결정"
   ]
  },
  {
   "cell_type": "markdown",
   "metadata": {},
   "source": [
    "| 메서드 | 내용 |\n",
    "|-----------|-----------|\n",
    "| fetchone()        | 조회 결과에서 1개의 row 를 가져옴   |\n",
    "| fetchmany(size=2)   | 조회 결과에서 지정한 size 만큼 row 를 가져옴     |\n",
    "| fetchall()   | 조회 결과에서 모든 row 를 가져옴      |"
   ]
  },
  {
   "cell_type": "markdown",
   "metadata": {},
   "source": [
    "### DB 연결"
   ]
  },
  {
   "cell_type": "code",
   "execution_count": null,
   "metadata": {},
   "outputs": [],
   "source": [
    "import sqlite3\n",
    "import pandas as pd"
   ]
  },
  {
   "cell_type": "code",
   "execution_count": null,
   "metadata": {},
   "outputs": [],
   "source": [
    "# 연습용 DB 연결\n",
    "conn = sqlite3.connect(\"chadwick.db\")"
   ]
  },
  {
   "cell_type": "code",
   "execution_count": null,
   "metadata": {},
   "outputs": [],
   "source": [
    "# 커서 생성\n",
    "c = conn.cursor()"
   ]
  },
  {
   "cell_type": "code",
   "execution_count": null,
   "metadata": {},
   "outputs": [],
   "source": [
    "# 전체 테이블 현황 조회\n",
    "c.execute('''SELECT * FROM sqlite_master WHERE type=\"table\"''')"
   ]
  },
  {
   "cell_type": "code",
   "execution_count": null,
   "metadata": {},
   "outputs": [],
   "source": [
    "pd.DataFrame(c.fetchall())"
   ]
  },
  {
   "cell_type": "markdown",
   "metadata": {},
   "source": [
    "### 조회"
   ]
  },
  {
   "cell_type": "markdown",
   "metadata": {},
   "source": [
    "#### 데이터 조회"
   ]
  },
  {
   "cell_type": "code",
   "execution_count": null,
   "metadata": {},
   "outputs": [],
   "source": [
    "# 전체 데이터 조회\n",
    "c.execute('''SELECT * FROM Parks''')"
   ]
  },
  {
   "cell_type": "code",
   "execution_count": null,
   "metadata": {},
   "outputs": [],
   "source": [
    "# # 전체 로우(ROW) 선택\n",
    "# pd.DataFrame(c.fetchall())"
   ]
  },
  {
   "cell_type": "code",
   "execution_count": null,
   "metadata": {},
   "outputs": [],
   "source": [
    "# 1개 로우 선택\n",
    "pd.DataFrame(c.fetchone())"
   ]
  },
  {
   "cell_type": "code",
   "execution_count": null,
   "metadata": {},
   "outputs": [],
   "source": [
    "# 지정 로우 선택\n",
    "pd.DataFrame(c.fetchmany(size=3))"
   ]
  },
  {
   "cell_type": "markdown",
   "metadata": {},
   "source": [
    "#### 특정 데이터 조회"
   ]
  },
  {
   "cell_type": "code",
   "execution_count": null,
   "metadata": {},
   "outputs": [],
   "source": [
    "# 컬럼(키) 확인\n",
    "cur = c.execute('''SELECT * FROM Parks''')\n",
    "cur.description"
   ]
  },
  {
   "cell_type": "code",
   "execution_count": null,
   "metadata": {},
   "outputs": [],
   "source": [
    "# 특정 row 만 가져오기\n",
    "c.execute('''SELECT * FROM Parks WHERE state = ?''', ('NY',))\n",
    "pd.DataFrame(c.fetchall())"
   ]
  },
  {
   "cell_type": "code",
   "execution_count": null,
   "metadata": {},
   "outputs": [],
   "source": [
    "# DB 연결 해제\n",
    "conn.close()"
   ]
  },
  {
   "cell_type": "markdown",
   "metadata": {},
   "source": [
    "### 기본 문법"
   ]
  },
  {
   "cell_type": "markdown",
   "metadata": {},
   "source": [
    "> - DB 쿼리문 작성 명령어 그대로 사용"
   ]
  },
  {
   "cell_type": "markdown",
   "metadata": {},
   "source": [
    "#### 연결(pre-do)"
   ]
  },
  {
   "cell_type": "code",
   "execution_count": 2,
   "metadata": {},
   "outputs": [],
   "source": [
    "import sqlite3"
   ]
  },
  {
   "cell_type": "code",
   "execution_count": 3,
   "metadata": {},
   "outputs": [],
   "source": [
    "# 연습용 DB 생성 / 연결\n",
    "conn = sqlite3.connect(\"test.db\")"
   ]
  },
  {
   "cell_type": "code",
   "execution_count": 4,
   "metadata": {},
   "outputs": [],
   "source": [
    "# 커서 생성\n",
    "c = conn.cursor()"
   ]
  },
  {
   "cell_type": "markdown",
   "metadata": {},
   "source": [
    "#### 구문"
   ]
  },
  {
   "cell_type": "markdown",
   "metadata": {},
   "source": [
    ">  cursor.execute(sql_query, [parameters]) <br>\n",
    "> - sql_query: 실행할 SQL 쿼리문. 문자열(주로 ''' ''') 안에 작성. <br>문법은 쿼리 문법과 동일 <br>\n",
    "> - parameters (선택사항): SQL 쿼리에 전달할 매개변수. <br>\n",
    "이는 튜플(tuple) 또는 딕셔너리(dictionary) 형태로 제공되며, 매개변수를 사용하여 동적으로 생성하고 실행"
   ]
  },
  {
   "cell_type": "markdown",
   "metadata": {},
   "source": [
    "예시(조회)<br>\n",
    "- 파라미터 없이 쿼리 실행 <br>\n",
    "cursor.execute('SELECT * FROM table_name') <br>\n",
    "<br>\n",
    "- 파라미터를 사용하여 쿼리 실행 (플레이스홀더를 사용하는 경우)<br>\n",
    "cursor.execute('SELECT * FROM table_name WHERE column_name = ?', ('value',))<br>\n",
    "<br>\n",
    "- 딕셔너리 형태로 파라미터를 전달하는 경우<br>\n",
    "cursor.execute('SELECT * FROM table_name WHERE column_name = :value', {'value': 'some_value'})\n"
   ]
  },
  {
   "cell_type": "markdown",
   "metadata": {},
   "source": [
    "#### 커밋(commit) 및 롤백(rollback)"
   ]
  },
  {
   "cell_type": "markdown",
   "metadata": {},
   "source": [
    "conn.commit()  # 변경사항 저장 <br>\n",
    "conn.rollback()  # 변경사항 취소"
   ]
  },
  {
   "cell_type": "markdown",
   "metadata": {},
   "source": [
    "#### CREATE"
   ]
  },
  {
   "cell_type": "markdown",
   "metadata": {},
   "source": [
    "```python\n",
    "c.execute('''CREATE TABLE TableName (\n",
    "                column1 datatype PRIMARY KEY,\n",
    "                column2 datatype,\n",
    "                ...\n",
    "            )''')\n",
    "\n",
    "```\n"
   ]
  },
  {
   "cell_type": "markdown",
   "metadata": {},
   "source": [
    "#### INSERT"
   ]
  },
  {
   "cell_type": "markdown",
   "metadata": {},
   "source": [
    "```python\n",
    "c.execute('''INSERT INTO TableName (column1, column2, ...) \n",
    "              VALUES (value1, value2, ...)''')\n",
    "\n",
    "```\n"
   ]
  },
  {
   "cell_type": "markdown",
   "metadata": {},
   "source": [
    "##### 열(키) 항목 순서를 정확히 모르는 경우"
   ]
  },
  {
   "cell_type": "markdown",
   "metadata": {},
   "source": [
    "```python\n",
    "c.execute(\"INSERT INTO test(PRODUCT_NAME, PRICE, ID) VALUES(?,?,?)\", ('티셔츠', 20000, 3))\n",
    "```\n"
   ]
  },
  {
   "cell_type": "markdown",
   "metadata": {},
   "source": [
    "##### 여러 데이터를 한번에 삽입하고 싶은 경우"
   ]
  },
  {
   "cell_type": "markdown",
   "metadata": {},
   "source": [
    "```python\n",
    "# 추가할 상품 리스트\n",
    "product_list = [[1, '모자', 15000],\n",
    "                [2, '코트', 200000],\n",
    "                [3, '티셔츠', 20000],\n",
    "                [4, '블라우스', 55000],\n",
    "                [5, '가디건', 45000],\n",
    "                [6, '청바지', 50000],\n",
    "                [7, '구두', 150000],\n",
    "                [8, '가방', 170000]]\n",
    "```\n"
   ]
  },
  {
   "cell_type": "markdown",
   "metadata": {},
   "source": [
    "```python\n",
    "c.executemany(\"INSERT INTO test(ID, PRODUCT_NAME, PRICE) VALUES(?,?,?)\", product_list)\n",
    "```\n"
   ]
  },
  {
   "cell_type": "markdown",
   "metadata": {},
   "source": [
    "#### UPDATE"
   ]
  },
  {
   "cell_type": "markdown",
   "metadata": {},
   "source": [
    "```python\n",
    "c.execute('''UPDATE TableName SET column1 = value1 WHERE condition''')\n",
    "```\n"
   ]
  },
  {
   "cell_type": "markdown",
   "metadata": {},
   "source": [
    "##### 튜플 형태로 수정"
   ]
  },
  {
   "cell_type": "markdown",
   "metadata": {},
   "source": [
    "```python\n",
    "c.execute(\"UPDATE test SET PRODUCT_NAME = ? WHERE ID = ?\", ('슬랙스', 6))\n",
    "```\n"
   ]
  },
  {
   "cell_type": "markdown",
   "metadata": {},
   "source": [
    "##### 딕셔너리 형태로 수정"
   ]
  },
  {
   "cell_type": "markdown",
   "metadata": {},
   "source": [
    "```python\n",
    "c.execute(\"UPDATE test SET PRICE = :price WHERE ID = :id\", {\"price\":55000, \"id\":6})\n",
    "```"
   ]
  },
  {
   "cell_type": "markdown",
   "metadata": {},
   "source": [
    "##### %s 표시자 사용"
   ]
  },
  {
   "cell_type": "markdown",
   "metadata": {},
   "source": [
    "```python\n",
    "c.execute(\"UPDATE test SET PRODUCT_NAME = '%s' WHERE ID = '%s'\" % ('트랜치코트', 2))\n",
    "```"
   ]
  },
  {
   "cell_type": "markdown",
   "metadata": {},
   "source": [
    "#### DELETE"
   ]
  },
  {
   "cell_type": "markdown",
   "metadata": {},
   "source": [
    "```python\n",
    "c.execute('''DELETE FROM TableName WHERE condition''')\n",
    "```"
   ]
  },
  {
   "cell_type": "markdown",
   "metadata": {},
   "source": [
    "##### 튜플 형태로 삭제"
   ]
  },
  {
   "cell_type": "markdown",
   "metadata": {},
   "source": [
    "```python\n",
    "c.execute(\"DELETE FROM test WHERE ID =?\", (8,))\n",
    "```"
   ]
  },
  {
   "cell_type": "markdown",
   "metadata": {},
   "source": [
    "##### 딕셔너리 형태로 삭제"
   ]
  },
  {
   "cell_type": "markdown",
   "metadata": {},
   "source": [
    "```python\n",
    "c.execute(\"DELETE FROM test WHERE PRODUCT_NAME = :product_name\", {'product_name':'슬랙스'})\n",
    "```"
   ]
  },
  {
   "cell_type": "markdown",
   "metadata": {},
   "source": [
    "##### 전체 삭제"
   ]
  },
  {
   "cell_type": "markdown",
   "metadata": {},
   "source": [
    "```python\n",
    "c.execute(\"DELETE FROM test\")\n",
    "```"
   ]
  },
  {
   "cell_type": "markdown",
   "metadata": {},
   "source": []
  }
 ],
 "metadata": {
  "kernelspec": {
   "display_name": "Fourty7",
   "language": "python",
   "name": "python3"
  },
  "language_info": {
   "codemirror_mode": {
    "name": "ipython",
    "version": 3
   },
   "file_extension": ".py",
   "mimetype": "text/x-python",
   "name": "python",
   "nbconvert_exporter": "python",
   "pygments_lexer": "ipython3",
   "version": "3.10.13"
  }
 },
 "nbformat": 4,
 "nbformat_minor": 2
}
