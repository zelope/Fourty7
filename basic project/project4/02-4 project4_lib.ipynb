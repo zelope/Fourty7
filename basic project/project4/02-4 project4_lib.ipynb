{
 "cells": [
  {
   "cell_type": "markdown",
   "metadata": {},
   "source": [
    "# **Chapter 5.  쇼핑몰 데이터베이스 만들기**\n",
    "\n",
    "\n",
    "---\n",
    "### 📝 **학습 목차**\n",
    "> 1. csv 파일 다루기 - csv <br>\n",
    "> 2. 데이터 베이스 연결 - sqlight3 <br>\n",
    "> 3. sqlight 다루기 <br>\n",
    "> **4. 데이터 백업하기 - iterdump** <br>"
   ]
  },
  {
   "cell_type": "markdown",
   "metadata": {},
   "source": [
    "#### conn.iterdump"
   ]
  },
  {
   "cell_type": "markdown",
   "metadata": {},
   "source": [
    "\n",
    "- SQLite 데이터베이스의 스키마 및 데이터를 SQL 스크립트 형식으로 반복적으로 반환하는 메서드<br> \n",
    "- 이 메서드는 데이터베이스의 모든 테이블, 뷰, 인덱스 및 해당 내용을 포함하는 SQL 스크립트를 반환. <br>\n",
    "- `.sql` 파일 확장자로 **테이블을 다시 복원**할 수 있는 쿼리문을 저장 <br>\n",
    "\n",
    "iterdump() 메서드는 데이터베이스를 통째로 읽고 메모리에 올려야 하기 때문에 큰 데이터베이스의 경우 메모리 사용량이 높을 수 있습니다. 일반적으로 이 메서드는 백업 용도로 사용됩니다"
   ]
  },
  {
   "cell_type": "markdown",
   "metadata": {},
   "source": [
    "## 4. 데이터 백업하기"
   ]
  },
  {
   "cell_type": "code",
   "execution_count": 5,
   "metadata": {},
   "outputs": [],
   "source": [
    "import sqlite3"
   ]
  },
  {
   "cell_type": "code",
   "execution_count": 6,
   "metadata": {},
   "outputs": [],
   "source": [
    "# 연습용 DB 연결\n",
    "conn = sqlite3.connect(\"test.db\")\n",
    "# 커서 생성\n",
    "c = conn.cursor()"
   ]
  },
  {
   "cell_type": "code",
   "execution_count": 7,
   "metadata": {},
   "outputs": [],
   "source": [
    "# 추가할 상품 리스트\n",
    "product_list = [[1, '모자', 15000],\n",
    "                [2, '코트', 200000],\n",
    "                [3, '티셔츠', 20000],\n",
    "                [4, '블라우스', 55000],\n",
    "                [5, '가디건', 45000],\n",
    "                [6, '청바지', 50000],\n",
    "                [7, '구두', 150000],\n",
    "                [8, '가방', 170000]]"
   ]
  },
  {
   "cell_type": "code",
   "execution_count": 8,
   "metadata": {},
   "outputs": [],
   "source": [
    "# 데이터 여러줄 삽입\n",
    "c.executemany(\"INSERT OR REPLACE INTO test(ID, PRODUCT_NAME, PRICE) VALUES(?,?,?)\", product_list)\n",
    "conn.commit()"
   ]
  },
  {
   "cell_type": "code",
   "execution_count": 9,
   "metadata": {},
   "outputs": [
    {
     "name": "stdout",
     "output_type": "stream",
     "text": [
      "BEGIN TRANSACTION;\n",
      "CREATE TABLE test (ID INTEGER PRIMARY KEY, PRODUCT_NAME TEXT, PRICE INTEGER);\n",
      "INSERT INTO \"test\" VALUES(1,'모자',15000);\n",
      "INSERT INTO \"test\" VALUES(2,'코트',200000);\n",
      "INSERT INTO \"test\" VALUES(3,'티셔츠',20000);\n",
      "INSERT INTO \"test\" VALUES(4,'블라우스',55000);\n",
      "INSERT INTO \"test\" VALUES(5,'가디건',45000);\n",
      "INSERT INTO \"test\" VALUES(6,'청바지',50000);\n",
      "INSERT INTO \"test\" VALUES(7,'구두',150000);\n",
      "INSERT INTO \"test\" VALUES(8,'가방',170000);\n",
      "COMMIT;\n"
     ]
    }
   ],
   "source": [
    "# iterdump 내용 확인\n",
    "for line in conn.iterdump():\n",
    "    print(line)"
   ]
  },
  {
   "cell_type": "code",
   "execution_count": 10,
   "metadata": {},
   "outputs": [
    {
     "name": "stdout",
     "output_type": "stream",
     "text": [
      "Completed.\n"
     ]
    }
   ],
   "source": [
    "# 데이터 베이스 백업 파일 생성\n",
    "with conn:\n",
    "    with open('backup.sql', 'w') as f:\n",
    "        for line in conn.iterdump():\n",
    "            f.write('%s\\n' % line)\n",
    "        print('Completed.')"
   ]
  },
  {
   "cell_type": "code",
   "execution_count": 11,
   "metadata": {},
   "outputs": [],
   "source": [
    "# 테이블 삭제\n",
    "c.execute(\"DROP TABLE test\")\n",
    "conn.commit()"
   ]
  },
  {
   "cell_type": "code",
   "execution_count": 12,
   "metadata": {},
   "outputs": [],
   "source": [
    "# 백업 SQL 파일 로딩\n",
    "with open('backup.sql', 'r') as sql_file:\n",
    "    sql_script = sql_file.read()"
   ]
  },
  {
   "cell_type": "code",
   "execution_count": 13,
   "metadata": {},
   "outputs": [
    {
     "data": {
      "text/plain": [
       "'BEGIN TRANSACTION;\\nCREATE TABLE test (ID INTEGER PRIMARY KEY, PRODUCT_NAME TEXT, PRICE INTEGER);\\nINSERT INTO \"test\" VALUES(1,\\'모자\\',15000);\\nINSERT INTO \"test\" VALUES(2,\\'코트\\',200000);\\nINSERT INTO \"test\" VALUES(3,\\'티셔츠\\',20000);\\nINSERT INTO \"test\" VALUES(4,\\'블라우스\\',55000);\\nINSERT INTO \"test\" VALUES(5,\\'가디건\\',45000);\\nINSERT INTO \"test\" VALUES(6,\\'청바지\\',50000);\\nINSERT INTO \"test\" VALUES(7,\\'구두\\',150000);\\nINSERT INTO \"test\" VALUES(8,\\'가방\\',170000);\\nCOMMIT;\\n'"
      ]
     },
     "execution_count": 13,
     "metadata": {},
     "output_type": "execute_result"
    }
   ],
   "source": [
    "sql_script"
   ]
  },
  {
   "cell_type": "code",
   "execution_count": 14,
   "metadata": {},
   "outputs": [],
   "source": [
    "# SQL 스크립트 실행\n",
    "c.executescript(sql_script)\n",
    "conn.commit()"
   ]
  },
  {
   "cell_type": "code",
   "execution_count": null,
   "metadata": {},
   "outputs": [],
   "source": []
  }
 ],
 "metadata": {
  "kernelspec": {
   "display_name": "Fourty7",
   "language": "python",
   "name": "python3"
  },
  "language_info": {
   "codemirror_mode": {
    "name": "ipython",
    "version": 3
   },
   "file_extension": ".py",
   "mimetype": "text/x-python",
   "name": "python",
   "nbconvert_exporter": "python",
   "pygments_lexer": "ipython3",
   "version": "3.10.13"
  }
 },
 "nbformat": 4,
 "nbformat_minor": 2
}
